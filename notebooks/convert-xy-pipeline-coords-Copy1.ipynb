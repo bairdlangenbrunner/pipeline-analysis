{
 "cells": [
  {
   "cell_type": "code",
   "execution_count": 1,
   "id": "bece9d24",
   "metadata": {},
   "outputs": [],
   "source": [
    "import pandas"
   ]
  },
  {
   "cell_type": "markdown",
   "id": "d09c1666",
   "metadata": {},
   "source": [
    "* open the csv file"
   ]
  },
  {
   "cell_type": "code",
   "execution_count": 2,
   "id": "dd75a353",
   "metadata": {},
   "outputs": [],
   "source": [
    "# for crib point (cancelled)\n",
    "coords_csv = pandas.read_csv('pipeline-coords-2pipelines-example.csv')"
   ]
  },
  {
   "cell_type": "markdown",
   "id": "0209d557",
   "metadata": {},
   "source": [
    "* look at the csv file to understand how it's organized\n",
    "* ultimately each x,y pair should look like:  x1,y1 : x2,y2 : x3,y3 : ..."
   ]
  },
  {
   "cell_type": "code",
   "execution_count": 3,
   "id": "ee3403a1",
   "metadata": {},
   "outputs": [
    {
     "data": {
      "text/html": [
       "<div>\n",
       "<style scoped>\n",
       "    .dataframe tbody tr th:only-of-type {\n",
       "        vertical-align: middle;\n",
       "    }\n",
       "\n",
       "    .dataframe tbody tr th {\n",
       "        vertical-align: top;\n",
       "    }\n",
       "\n",
       "    .dataframe thead th {\n",
       "        text-align: right;\n",
       "    }\n",
       "</style>\n",
       "<table border=\"1\" class=\"dataframe\">\n",
       "  <thead>\n",
       "    <tr style=\"text-align: right;\">\n",
       "      <th></th>\n",
       "      <th>Name</th>\n",
       "      <th>xcoord</th>\n",
       "      <th>ycoord</th>\n",
       "    </tr>\n",
       "  </thead>\n",
       "  <tbody>\n",
       "    <tr>\n",
       "      <th>0</th>\n",
       "      <td>Example Pipeline 1</td>\n",
       "      <td>43.256</td>\n",
       "      <td>25.13</td>\n",
       "    </tr>\n",
       "    <tr>\n",
       "      <th>1</th>\n",
       "      <td>Example Pipeline 1</td>\n",
       "      <td>43.257</td>\n",
       "      <td>25.13</td>\n",
       "    </tr>\n",
       "    <tr>\n",
       "      <th>2</th>\n",
       "      <td>Example Pipeline 1</td>\n",
       "      <td>43.258</td>\n",
       "      <td>25.13</td>\n",
       "    </tr>\n",
       "    <tr>\n",
       "      <th>3</th>\n",
       "      <td>Example Pipeline 2</td>\n",
       "      <td>51.210</td>\n",
       "      <td>10.58</td>\n",
       "    </tr>\n",
       "    <tr>\n",
       "      <th>4</th>\n",
       "      <td>Example Pipeline 2</td>\n",
       "      <td>51.220</td>\n",
       "      <td>11.00</td>\n",
       "    </tr>\n",
       "    <tr>\n",
       "      <th>5</th>\n",
       "      <td>Example Pipeline 2</td>\n",
       "      <td>51.230</td>\n",
       "      <td>12.00</td>\n",
       "    </tr>\n",
       "    <tr>\n",
       "      <th>6</th>\n",
       "      <td>Example Pipeline 2</td>\n",
       "      <td>51.240</td>\n",
       "      <td>15.00</td>\n",
       "    </tr>\n",
       "    <tr>\n",
       "      <th>7</th>\n",
       "      <td>Example Pipeline 2</td>\n",
       "      <td>51.250</td>\n",
       "      <td>18.00</td>\n",
       "    </tr>\n",
       "  </tbody>\n",
       "</table>\n",
       "</div>"
      ],
      "text/plain": [
       "                 Name  xcoord  ycoord\n",
       "0  Example Pipeline 1  43.256   25.13\n",
       "1  Example Pipeline 1  43.257   25.13\n",
       "2  Example Pipeline 1  43.258   25.13\n",
       "3  Example Pipeline 2  51.210   10.58\n",
       "4  Example Pipeline 2  51.220   11.00\n",
       "5  Example Pipeline 2  51.230   12.00\n",
       "6  Example Pipeline 2  51.240   15.00\n",
       "7  Example Pipeline 2  51.250   18.00"
      ]
     },
     "execution_count": 3,
     "metadata": {},
     "output_type": "execute_result"
    }
   ],
   "source": [
    "coords_csv"
   ]
  },
  {
   "cell_type": "markdown",
   "id": "97bddf07",
   "metadata": {},
   "source": [
    "* create a list of pipeline names that match up exactly with the csv file; this is something you'll edit yourself"
   ]
  },
  {
   "cell_type": "code",
   "execution_count": 4,
   "id": "d34b8847",
   "metadata": {},
   "outputs": [],
   "source": [
    "list_of_pipelines = ['Example Pipeline 1',\n",
    "                     'Example Pipeline 2']"
   ]
  },
  {
   "cell_type": "markdown",
   "id": "712e89a3",
   "metadata": {},
   "source": [
    "* _aside: to pull out all the rows where the Name column matches \"Example Pipeline 1\", use the syntax below:_"
   ]
  },
  {
   "cell_type": "code",
   "execution_count": 5,
   "id": "d0cc4f21",
   "metadata": {},
   "outputs": [
    {
     "data": {
      "text/html": [
       "<div>\n",
       "<style scoped>\n",
       "    .dataframe tbody tr th:only-of-type {\n",
       "        vertical-align: middle;\n",
       "    }\n",
       "\n",
       "    .dataframe tbody tr th {\n",
       "        vertical-align: top;\n",
       "    }\n",
       "\n",
       "    .dataframe thead th {\n",
       "        text-align: right;\n",
       "    }\n",
       "</style>\n",
       "<table border=\"1\" class=\"dataframe\">\n",
       "  <thead>\n",
       "    <tr style=\"text-align: right;\">\n",
       "      <th></th>\n",
       "      <th>Name</th>\n",
       "      <th>xcoord</th>\n",
       "      <th>ycoord</th>\n",
       "    </tr>\n",
       "  </thead>\n",
       "  <tbody>\n",
       "    <tr>\n",
       "      <th>0</th>\n",
       "      <td>Example Pipeline 1</td>\n",
       "      <td>43.256</td>\n",
       "      <td>25.13</td>\n",
       "    </tr>\n",
       "    <tr>\n",
       "      <th>1</th>\n",
       "      <td>Example Pipeline 1</td>\n",
       "      <td>43.257</td>\n",
       "      <td>25.13</td>\n",
       "    </tr>\n",
       "    <tr>\n",
       "      <th>2</th>\n",
       "      <td>Example Pipeline 1</td>\n",
       "      <td>43.258</td>\n",
       "      <td>25.13</td>\n",
       "    </tr>\n",
       "  </tbody>\n",
       "</table>\n",
       "</div>"
      ],
      "text/plain": [
       "                 Name  xcoord  ycoord\n",
       "0  Example Pipeline 1  43.256   25.13\n",
       "1  Example Pipeline 1  43.257   25.13\n",
       "2  Example Pipeline 1  43.258   25.13"
      ]
     },
     "execution_count": 5,
     "metadata": {},
     "output_type": "execute_result"
    }
   ],
   "source": [
    "coords_csv.loc[coords_csv['Name']=='Example Pipeline 1']"
   ]
  },
  {
   "cell_type": "markdown",
   "id": "07aee2ca",
   "metadata": {},
   "source": [
    "* now loop through each ```pipeline_name``` in this list and do the appropriate reformatting, and store that in ```list_of_formatted_coords```"
   ]
  },
  {
   "cell_type": "code",
   "execution_count": 6,
   "id": "e8ae13d8",
   "metadata": {},
   "outputs": [],
   "source": [
    "list_of_formatted_coords = []\n",
    "for pipeline_name in list_of_pipelines:\n",
    "    # pull out all rows matching pipeline_name\n",
    "    pipeline_specific_dataframe = coords_csv.loc[coords_csv['Name']==pipeline_name]\n",
    "    # then change y,x coords into strings\n",
    "    pipeline_specific_dataframe[['xcoord','ycoord']].astype(str)\n",
    "    # join those strings with a comma\n",
    "    joined_strings_dataframe = pipeline_specific_dataframe[['xcoord', 'ycoord']].astype(str).apply(lambda x: ', '.join(x), axis=1)\n",
    "    # add the colon\n",
    "    joined_strings_with_colon = joined_strings_dataframe.str.cat(sep=': ')\n",
    "    # store this in a list\n",
    "    list_of_formatted_coords.append(joined_strings_with_colon)"
   ]
  },
  {
   "cell_type": "markdown",
   "id": "71c1d076",
   "metadata": {},
   "source": [
    "* finally, write some code to spit out the information in the format you want"
   ]
  },
  {
   "cell_type": "code",
   "execution_count": 7,
   "id": "74c2a74e",
   "metadata": {},
   "outputs": [
    {
     "data": {
      "text/plain": [
       "'43.256, 25.13: 43.257, 25.13: 43.258, 25.13'"
      ]
     },
     "execution_count": 7,
     "metadata": {},
     "output_type": "execute_result"
    }
   ],
   "source": [
    "# the first entry in this list is the coordinates for the first pipeline in list_of_pipelines\n",
    "list_of_formatted_coords[0]"
   ]
  },
  {
   "cell_type": "code",
   "execution_count": 8,
   "id": "fa4007e3",
   "metadata": {},
   "outputs": [
    {
     "name": "stdout",
     "output_type": "stream",
     "text": [
      "Example Pipeline 1 -- 43.256, 25.13: 43.257, 25.13: 43.258, 25.13\n",
      "Example Pipeline 2 -- 51.21, 10.58: 51.22, 11.0: 51.23, 12.0: 51.24, 15.0: 51.25, 18.0\n"
     ]
    }
   ],
   "source": [
    "for index,pipeline_name in enumerate(list_of_pipelines):\n",
    "    print(pipeline_name, '--', list_of_formatted_coords[index])"
   ]
  }
 ],
 "metadata": {
  "kernelspec": {
   "display_name": "gem",
   "language": "python",
   "name": "gem"
  },
  "language_info": {
   "codemirror_mode": {
    "name": "ipython",
    "version": 3
   },
   "file_extension": ".py",
   "mimetype": "text/x-python",
   "name": "python",
   "nbconvert_exporter": "python",
   "pygments_lexer": "ipython3",
   "version": "3.9.6"
  }
 },
 "nbformat": 4,
 "nbformat_minor": 5
}
