{
 "cells": [
  {
   "cell_type": "code",
   "execution_count": 1,
   "id": "bece9d24",
   "metadata": {},
   "outputs": [],
   "source": [
    "import pandas"
   ]
  },
  {
   "cell_type": "markdown",
   "id": "d09c1666",
   "metadata": {},
   "source": [
    "### open the csv file output by QGIS"
   ]
  },
  {
   "cell_type": "code",
   "execution_count": 19,
   "id": "dd75a353",
   "metadata": {},
   "outputs": [],
   "source": [
    "# for crib point (cancelled)\n",
    "coords_csv = pandas.read_csv('pipeline-coords.csv')"
   ]
  },
  {
   "cell_type": "markdown",
   "id": "0209d557",
   "metadata": {},
   "source": [
    "* print the xcoords and ycoords columns to see what we're working with\n",
    "* ultimately each x,y pair should look like:  y1,x1 : y2,x2 : y3,x3 : ..."
   ]
  },
  {
   "cell_type": "code",
   "execution_count": 20,
   "id": "74d1c6d1",
   "metadata": {},
   "outputs": [
    {
     "data": {
      "text/plain": [
       "0     145.546706\n",
       "1     145.544494\n",
       "2     145.529013\n",
       "3     145.526801\n",
       "4     145.513531\n",
       "         ...    \n",
       "67    145.205657\n",
       "68    145.209575\n",
       "69    145.217848\n",
       "70    145.218719\n",
       "71    145.223944\n",
       "Name: xcoords, Length: 72, dtype: float64"
      ]
     },
     "execution_count": 20,
     "metadata": {},
     "output_type": "execute_result"
    }
   ],
   "source": [
    "coords_csv['xcoords']"
   ]
  },
  {
   "cell_type": "code",
   "execution_count": 11,
   "id": "96881f4a",
   "metadata": {},
   "outputs": [
    {
     "data": {
      "text/plain": [
       "0    -38.063066\n",
       "1    -38.078156\n",
       "2    -38.081638\n",
       "3    -38.091502\n",
       "4    -38.091502\n",
       "        ...    \n",
       "67   -38.340613\n",
       "68   -38.345052\n",
       "69   -38.346077\n",
       "70   -38.350516\n",
       "71   -38.350857\n",
       "Name: ycoords, Length: 72, dtype: float64"
      ]
     },
     "execution_count": 11,
     "metadata": {},
     "output_type": "execute_result"
    }
   ],
   "source": [
    "coords_csv['ycoords']"
   ]
  },
  {
   "cell_type": "markdown",
   "id": "bbf1069a",
   "metadata": {},
   "source": [
    "### x and y coordinates need to be strings, rather than floats, to concatenate them and add a colon, so do this to convert them:"
   ]
  },
  {
   "cell_type": "code",
   "execution_count": 12,
   "id": "27f78807",
   "metadata": {},
   "outputs": [
    {
     "data": {
      "text/html": [
       "<div>\n",
       "<style scoped>\n",
       "    .dataframe tbody tr th:only-of-type {\n",
       "        vertical-align: middle;\n",
       "    }\n",
       "\n",
       "    .dataframe tbody tr th {\n",
       "        vertical-align: top;\n",
       "    }\n",
       "\n",
       "    .dataframe thead th {\n",
       "        text-align: right;\n",
       "    }\n",
       "</style>\n",
       "<table border=\"1\" class=\"dataframe\">\n",
       "  <thead>\n",
       "    <tr style=\"text-align: right;\">\n",
       "      <th></th>\n",
       "      <th>ycoords</th>\n",
       "      <th>xcoords</th>\n",
       "    </tr>\n",
       "  </thead>\n",
       "  <tbody>\n",
       "    <tr>\n",
       "      <th>0</th>\n",
       "      <td>-38.063066</td>\n",
       "      <td>145.546705943145</td>\n",
       "    </tr>\n",
       "    <tr>\n",
       "      <th>1</th>\n",
       "      <td>-38.078156</td>\n",
       "      <td>145.544494272807</td>\n",
       "    </tr>\n",
       "    <tr>\n",
       "      <th>2</th>\n",
       "      <td>-38.081638</td>\n",
       "      <td>145.529012580435</td>\n",
       "    </tr>\n",
       "    <tr>\n",
       "      <th>3</th>\n",
       "      <td>-38.091502</td>\n",
       "      <td>145.526800910096</td>\n",
       "    </tr>\n",
       "    <tr>\n",
       "      <th>4</th>\n",
       "      <td>-38.091502</td>\n",
       "      <td>145.513530888064</td>\n",
       "    </tr>\n",
       "    <tr>\n",
       "      <th>...</th>\n",
       "      <td>...</td>\n",
       "      <td>...</td>\n",
       "    </tr>\n",
       "    <tr>\n",
       "      <th>67</th>\n",
       "      <td>-38.340613</td>\n",
       "      <td>145.205656653389</td>\n",
       "    </tr>\n",
       "    <tr>\n",
       "      <th>68</th>\n",
       "      <td>-38.345052</td>\n",
       "      <td>145.209575373539</td>\n",
       "    </tr>\n",
       "    <tr>\n",
       "      <th>69</th>\n",
       "      <td>-38.346077</td>\n",
       "      <td>145.217848227189</td>\n",
       "    </tr>\n",
       "    <tr>\n",
       "      <th>70</th>\n",
       "      <td>-38.350516</td>\n",
       "      <td>145.218719053889</td>\n",
       "    </tr>\n",
       "    <tr>\n",
       "      <th>71</th>\n",
       "      <td>-38.350857</td>\n",
       "      <td>145.223944014089</td>\n",
       "    </tr>\n",
       "  </tbody>\n",
       "</table>\n",
       "<p>72 rows × 2 columns</p>\n",
       "</div>"
      ],
      "text/plain": [
       "       ycoords           xcoords\n",
       "0   -38.063066  145.546705943145\n",
       "1   -38.078156  145.544494272807\n",
       "2   -38.081638  145.529012580435\n",
       "3   -38.091502  145.526800910096\n",
       "4   -38.091502  145.513530888064\n",
       "..         ...               ...\n",
       "67  -38.340613  145.205656653389\n",
       "68  -38.345052  145.209575373539\n",
       "69  -38.346077  145.217848227189\n",
       "70  -38.350516  145.218719053889\n",
       "71  -38.350857  145.223944014089\n",
       "\n",
       "[72 rows x 2 columns]"
      ]
     },
     "execution_count": 12,
     "metadata": {},
     "output_type": "execute_result"
    }
   ],
   "source": [
    "coords_csv[['ycoords','xcoords']].astype(str)"
   ]
  },
  {
   "cell_type": "markdown",
   "id": "12e7611b",
   "metadata": {},
   "source": [
    "### now that both columns are strings, join them using a lambda function below, adding a comma and space between:"
   ]
  },
  {
   "cell_type": "code",
   "execution_count": 13,
   "id": "42032634",
   "metadata": {},
   "outputs": [
    {
     "data": {
      "text/plain": [
       "0    -38.063066, 145.546705943145\n",
       "1    -38.078156, 145.544494272807\n",
       "2    -38.081638, 145.529012580435\n",
       "3    -38.091502, 145.526800910096\n",
       "4    -38.091502, 145.513530888064\n",
       "dtype: object"
      ]
     },
     "execution_count": 13,
     "metadata": {},
     "output_type": "execute_result"
    }
   ],
   "source": [
    "joined_strings_dataframe = coords_csv[['ycoords', 'xcoords']].astype(str).apply(lambda x: ', '.join(x), axis=1)\n",
    "joined_strings_dataframe.head()"
   ]
  },
  {
   "cell_type": "markdown",
   "id": "1633d6ee",
   "metadata": {},
   "source": [
    "### then add a colon and concatenate into single string"
   ]
  },
  {
   "cell_type": "code",
   "execution_count": 14,
   "id": "0f37dc7a",
   "metadata": {},
   "outputs": [],
   "source": [
    "joined_strings_with_colon = joined_strings_dataframe.str.cat(sep=': ')"
   ]
  },
  {
   "cell_type": "code",
   "execution_count": 15,
   "id": "8dafac1b",
   "metadata": {},
   "outputs": [
    {
     "data": {
      "text/plain": [
       "'-38.063066, 145.546705943145: -38.078156, 145.544494272807: -38.081638, 145.529012580435: -38.091502, 145.526800910096: -38.091502, 145.513530888064: -38.110647, 145.510581994279: -38.114127, 145.506158653601: -38.115287, 145.501735312924: -38.119927, 145.500998089477: -38.118879, 145.491999412568: -38.120985, 145.489321971783: -38.121688, 145.485752050737: -38.126836, 145.478314715223: -38.131751, 145.474149807336: -38.142514, 145.473554820495: -38.14228, 145.461357590252: -38.144854, 145.456895188944: -38.146725, 145.450945320533: -38.155147, 145.44350798502: -38.154446, 145.425063392946: -38.158422, 145.42179096532: -38.157487, 145.414056136386: -38.160294, 145.408701254816: -38.161697, 145.404238853508: -38.164972, 145.399776452199: -38.166609, 145.392934103527: -38.170585, 145.386091754854: -38.169884, 145.373299537771: -38.179238, 145.37270455093: -38.178303, 145.354259958856: -38.18298, 145.351285024651: -38.189293, 145.34533515624: -38.191632, 145.34027776809: -38.194437, 145.330460485212: -38.19584, 145.321238189175: -38.19771, 145.317965761549: -38.19771, 145.3129083734: -38.199581, 145.310825919456: -38.199113, 145.305173544466: -38.201217, 145.300116156317: -38.200984, 145.293868794485: -38.204724, 145.293868794485: -38.205057, 145.286831081949: -38.208382, 145.275828273014: -38.211042, 145.267364573834: -38.213924, 145.262850600937: -38.21614, 145.252129915308: -38.223898, 145.25128354539: -38.224563, 145.2470516958: -38.240297, 145.248744435636: -38.240297, 145.243384092821: -38.243399, 145.243101969515: -38.245172, 145.234920393641: -38.254256, 145.235202516947: -38.254256, 145.226738817766: -38.263782, 145.22645669446: -38.26356, 145.217710871973: -38.274413, 145.217146625361: -38.273988, 145.195642146339: -38.278773, 145.191288012838: -38.282533, 145.191723426188: -38.282533, 145.189110946088: -38.327293, 145.189110946088: -38.330708, 145.195642146339: -38.332758, 145.195206732989: -38.33549, 145.198254626439: -38.340271, 145.203914999989: -38.340613, 145.205656653389: -38.345052, 145.209575373539: -38.346077, 145.217848227189: -38.350516, 145.218719053889: -38.350857, 145.223944014089'"
      ]
     },
     "execution_count": 15,
     "metadata": {},
     "output_type": "execute_result"
    }
   ],
   "source": [
    "joined_strings_with_colon"
   ]
  },
  {
   "cell_type": "code",
   "execution_count": null,
   "id": "a3e3a0da",
   "metadata": {},
   "outputs": [],
   "source": []
  }
 ],
 "metadata": {
  "kernelspec": {
   "display_name": "gem",
   "language": "python",
   "name": "gem"
  },
  "language_info": {
   "codemirror_mode": {
    "name": "ipython",
    "version": 3
   },
   "file_extension": ".py",
   "mimetype": "text/x-python",
   "name": "python",
   "nbconvert_exporter": "python",
   "pygments_lexer": "ipython3",
   "version": "3.9.6"
  }
 },
 "nbformat": 4,
 "nbformat_minor": 5
}
